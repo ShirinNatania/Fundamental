{
  "nbformat": 4,
  "nbformat_minor": 0,
  "metadata": {
    "colab": {
      "provenance": [],
      "authorship_tag": "ABX9TyNnjBIuMeklf/GesJHZ6EaZ",
      "include_colab_link": true
    },
    "kernelspec": {
      "name": "python3",
      "display_name": "Python 3"
    },
    "language_info": {
      "name": "python"
    }
  },
  "cells": [
    {
      "cell_type": "markdown",
      "metadata": {
        "id": "view-in-github",
        "colab_type": "text"
      },
      "source": [
        "<a href=\"https://colab.research.google.com/github/ShirinNatania/Fundamental/blob/main/YBI02.ipynb\" target=\"_parent\"><img src=\"https://colab.research.google.com/assets/colab-badge.svg\" alt=\"Open In Colab\"/></a>"
      ]
    },
    {
      "cell_type": "markdown",
      "source": [
        "# Mielage Prediction"
      ],
      "metadata": {
        "id": "7yCQncXejDI9"
      }
    },
    {
      "cell_type": "markdown",
      "source": [
        "Objective\n",
        "\n",
        "To predict and analyze the mielage using Machine Learning Techniques.\n"
      ],
      "metadata": {
        "id": "FaqBKjfejOkh"
      }
    },
    {
      "cell_type": "markdown",
      "source": [
        "Data Source\n",
        "\n",
        "YBI Foundation"
      ],
      "metadata": {
        "id": "7Ez6SOffjS0G"
      }
    },
    {
      "cell_type": "markdown",
      "source": [
        "Import Library"
      ],
      "metadata": {
        "id": "AAdDwJ1bjV_K"
      }
    },
    {
      "cell_type": "code",
      "source": [
        "import pandas as pd\n",
        "import numpy as np\n",
        "from sklearn.model_selection import train_test_split\n",
        "import matplotlib.pyplot as plt\n",
        "import seaborn as sns"
      ],
      "metadata": {
        "id": "xoMVtbt7j2Gr"
      },
      "execution_count": null,
      "outputs": []
    },
    {
      "cell_type": "markdown",
      "source": [
        "Import Data"
      ],
      "metadata": {
        "id": "ovLRFzD3jZlV"
      }
    },
    {
      "cell_type": "code",
      "source": [
        "path = 'https://github.com/YBI-Foundation/Dataset/raw/main/MPG.csv'\n",
        "df=pd.read_csv(path)\n",
        "print(df)"
      ],
      "metadata": {
        "colab": {
          "base_uri": "https://localhost:8080/"
        },
        "id": "6UCRe9rpJwWZ",
        "outputId": "56880100-d2b5-40e9-d8a8-3ce227b933b4"
      },
      "execution_count": null,
      "outputs": [
        {
          "output_type": "stream",
          "name": "stdout",
          "text": [
            "      mpg  cylinders  displacement  horsepower  weight  acceleration  \\\n",
            "0    18.0          8         307.0       130.0    3504          12.0   \n",
            "1    15.0          8         350.0       165.0    3693          11.5   \n",
            "2    18.0          8         318.0       150.0    3436          11.0   \n",
            "3    16.0          8         304.0       150.0    3433          12.0   \n",
            "4    17.0          8         302.0       140.0    3449          10.5   \n",
            "..    ...        ...           ...         ...     ...           ...   \n",
            "393  27.0          4         140.0        86.0    2790          15.6   \n",
            "394  44.0          4          97.0        52.0    2130          24.6   \n",
            "395  32.0          4         135.0        84.0    2295          11.6   \n",
            "396  28.0          4         120.0        79.0    2625          18.6   \n",
            "397  31.0          4         119.0        82.0    2720          19.4   \n",
            "\n",
            "     model_year  origin                       name  \n",
            "0            70     usa  chevrolet chevelle malibu  \n",
            "1            70     usa          buick skylark 320  \n",
            "2            70     usa         plymouth satellite  \n",
            "3            70     usa              amc rebel sst  \n",
            "4            70     usa                ford torino  \n",
            "..          ...     ...                        ...  \n",
            "393          82     usa            ford mustang gl  \n",
            "394          82  europe                  vw pickup  \n",
            "395          82     usa              dodge rampage  \n",
            "396          82     usa                ford ranger  \n",
            "397          82     usa                 chevy s-10  \n",
            "\n",
            "[398 rows x 9 columns]\n"
          ]
        }
      ]
    },
    {
      "cell_type": "markdown",
      "source": [
        "Describe Data"
      ],
      "metadata": {
        "id": "jpnuzmlGjbg_"
      }
    },
    {
      "cell_type": "code",
      "source": [
        "df.describe()"
      ],
      "metadata": {
        "colab": {
          "base_uri": "https://localhost:8080/",
          "height": 300
        },
        "id": "RQRH5qtlTiC_",
        "outputId": "56c52947-a9c8-45d2-eb3e-530df249e06c"
      },
      "execution_count": null,
      "outputs": [
        {
          "output_type": "execute_result",
          "data": {
            "text/plain": [
              "              mpg   cylinders  displacement  horsepower       weight  \\\n",
              "count  398.000000  398.000000    398.000000  392.000000   398.000000   \n",
              "mean    23.514573    5.454774    193.425879  104.469388  2970.424623   \n",
              "std      7.815984    1.701004    104.269838   38.491160   846.841774   \n",
              "min      9.000000    3.000000     68.000000   46.000000  1613.000000   \n",
              "25%     17.500000    4.000000    104.250000   75.000000  2223.750000   \n",
              "50%     23.000000    4.000000    148.500000   93.500000  2803.500000   \n",
              "75%     29.000000    8.000000    262.000000  126.000000  3608.000000   \n",
              "max     46.600000    8.000000    455.000000  230.000000  5140.000000   \n",
              "\n",
              "       acceleration  model_year  \n",
              "count    398.000000  398.000000  \n",
              "mean      15.568090   76.010050  \n",
              "std        2.757689    3.697627  \n",
              "min        8.000000   70.000000  \n",
              "25%       13.825000   73.000000  \n",
              "50%       15.500000   76.000000  \n",
              "75%       17.175000   79.000000  \n",
              "max       24.800000   82.000000  "
            ],
            "text/html": [
              "\n",
              "  <div id=\"df-b423863d-2689-4926-abeb-35e95c9e9160\">\n",
              "    <div class=\"colab-df-container\">\n",
              "      <div>\n",
              "<style scoped>\n",
              "    .dataframe tbody tr th:only-of-type {\n",
              "        vertical-align: middle;\n",
              "    }\n",
              "\n",
              "    .dataframe tbody tr th {\n",
              "        vertical-align: top;\n",
              "    }\n",
              "\n",
              "    .dataframe thead th {\n",
              "        text-align: right;\n",
              "    }\n",
              "</style>\n",
              "<table border=\"1\" class=\"dataframe\">\n",
              "  <thead>\n",
              "    <tr style=\"text-align: right;\">\n",
              "      <th></th>\n",
              "      <th>mpg</th>\n",
              "      <th>cylinders</th>\n",
              "      <th>displacement</th>\n",
              "      <th>horsepower</th>\n",
              "      <th>weight</th>\n",
              "      <th>acceleration</th>\n",
              "      <th>model_year</th>\n",
              "    </tr>\n",
              "  </thead>\n",
              "  <tbody>\n",
              "    <tr>\n",
              "      <th>count</th>\n",
              "      <td>398.000000</td>\n",
              "      <td>398.000000</td>\n",
              "      <td>398.000000</td>\n",
              "      <td>392.000000</td>\n",
              "      <td>398.000000</td>\n",
              "      <td>398.000000</td>\n",
              "      <td>398.000000</td>\n",
              "    </tr>\n",
              "    <tr>\n",
              "      <th>mean</th>\n",
              "      <td>23.514573</td>\n",
              "      <td>5.454774</td>\n",
              "      <td>193.425879</td>\n",
              "      <td>104.469388</td>\n",
              "      <td>2970.424623</td>\n",
              "      <td>15.568090</td>\n",
              "      <td>76.010050</td>\n",
              "    </tr>\n",
              "    <tr>\n",
              "      <th>std</th>\n",
              "      <td>7.815984</td>\n",
              "      <td>1.701004</td>\n",
              "      <td>104.269838</td>\n",
              "      <td>38.491160</td>\n",
              "      <td>846.841774</td>\n",
              "      <td>2.757689</td>\n",
              "      <td>3.697627</td>\n",
              "    </tr>\n",
              "    <tr>\n",
              "      <th>min</th>\n",
              "      <td>9.000000</td>\n",
              "      <td>3.000000</td>\n",
              "      <td>68.000000</td>\n",
              "      <td>46.000000</td>\n",
              "      <td>1613.000000</td>\n",
              "      <td>8.000000</td>\n",
              "      <td>70.000000</td>\n",
              "    </tr>\n",
              "    <tr>\n",
              "      <th>25%</th>\n",
              "      <td>17.500000</td>\n",
              "      <td>4.000000</td>\n",
              "      <td>104.250000</td>\n",
              "      <td>75.000000</td>\n",
              "      <td>2223.750000</td>\n",
              "      <td>13.825000</td>\n",
              "      <td>73.000000</td>\n",
              "    </tr>\n",
              "    <tr>\n",
              "      <th>50%</th>\n",
              "      <td>23.000000</td>\n",
              "      <td>4.000000</td>\n",
              "      <td>148.500000</td>\n",
              "      <td>93.500000</td>\n",
              "      <td>2803.500000</td>\n",
              "      <td>15.500000</td>\n",
              "      <td>76.000000</td>\n",
              "    </tr>\n",
              "    <tr>\n",
              "      <th>75%</th>\n",
              "      <td>29.000000</td>\n",
              "      <td>8.000000</td>\n",
              "      <td>262.000000</td>\n",
              "      <td>126.000000</td>\n",
              "      <td>3608.000000</td>\n",
              "      <td>17.175000</td>\n",
              "      <td>79.000000</td>\n",
              "    </tr>\n",
              "    <tr>\n",
              "      <th>max</th>\n",
              "      <td>46.600000</td>\n",
              "      <td>8.000000</td>\n",
              "      <td>455.000000</td>\n",
              "      <td>230.000000</td>\n",
              "      <td>5140.000000</td>\n",
              "      <td>24.800000</td>\n",
              "      <td>82.000000</td>\n",
              "    </tr>\n",
              "  </tbody>\n",
              "</table>\n",
              "</div>\n",
              "      <button class=\"colab-df-convert\" onclick=\"convertToInteractive('df-b423863d-2689-4926-abeb-35e95c9e9160')\"\n",
              "              title=\"Convert this dataframe to an interactive table.\"\n",
              "              style=\"display:none;\">\n",
              "        \n",
              "  <svg xmlns=\"http://www.w3.org/2000/svg\" height=\"24px\"viewBox=\"0 0 24 24\"\n",
              "       width=\"24px\">\n",
              "    <path d=\"M0 0h24v24H0V0z\" fill=\"none\"/>\n",
              "    <path d=\"M18.56 5.44l.94 2.06.94-2.06 2.06-.94-2.06-.94-.94-2.06-.94 2.06-2.06.94zm-11 1L8.5 8.5l.94-2.06 2.06-.94-2.06-.94L8.5 2.5l-.94 2.06-2.06.94zm10 10l.94 2.06.94-2.06 2.06-.94-2.06-.94-.94-2.06-.94 2.06-2.06.94z\"/><path d=\"M17.41 7.96l-1.37-1.37c-.4-.4-.92-.59-1.43-.59-.52 0-1.04.2-1.43.59L10.3 9.45l-7.72 7.72c-.78.78-.78 2.05 0 2.83L4 21.41c.39.39.9.59 1.41.59.51 0 1.02-.2 1.41-.59l7.78-7.78 2.81-2.81c.8-.78.8-2.07 0-2.86zM5.41 20L4 18.59l7.72-7.72 1.47 1.35L5.41 20z\"/>\n",
              "  </svg>\n",
              "      </button>\n",
              "      \n",
              "  <style>\n",
              "    .colab-df-container {\n",
              "      display:flex;\n",
              "      flex-wrap:wrap;\n",
              "      gap: 12px;\n",
              "    }\n",
              "\n",
              "    .colab-df-convert {\n",
              "      background-color: #E8F0FE;\n",
              "      border: none;\n",
              "      border-radius: 50%;\n",
              "      cursor: pointer;\n",
              "      display: none;\n",
              "      fill: #1967D2;\n",
              "      height: 32px;\n",
              "      padding: 0 0 0 0;\n",
              "      width: 32px;\n",
              "    }\n",
              "\n",
              "    .colab-df-convert:hover {\n",
              "      background-color: #E2EBFA;\n",
              "      box-shadow: 0px 1px 2px rgba(60, 64, 67, 0.3), 0px 1px 3px 1px rgba(60, 64, 67, 0.15);\n",
              "      fill: #174EA6;\n",
              "    }\n",
              "\n",
              "    [theme=dark] .colab-df-convert {\n",
              "      background-color: #3B4455;\n",
              "      fill: #D2E3FC;\n",
              "    }\n",
              "\n",
              "    [theme=dark] .colab-df-convert:hover {\n",
              "      background-color: #434B5C;\n",
              "      box-shadow: 0px 1px 3px 1px rgba(0, 0, 0, 0.15);\n",
              "      filter: drop-shadow(0px 1px 2px rgba(0, 0, 0, 0.3));\n",
              "      fill: #FFFFFF;\n",
              "    }\n",
              "  </style>\n",
              "\n",
              "      <script>\n",
              "        const buttonEl =\n",
              "          document.querySelector('#df-b423863d-2689-4926-abeb-35e95c9e9160 button.colab-df-convert');\n",
              "        buttonEl.style.display =\n",
              "          google.colab.kernel.accessAllowed ? 'block' : 'none';\n",
              "\n",
              "        async function convertToInteractive(key) {\n",
              "          const element = document.querySelector('#df-b423863d-2689-4926-abeb-35e95c9e9160');\n",
              "          const dataTable =\n",
              "            await google.colab.kernel.invokeFunction('convertToInteractive',\n",
              "                                                     [key], {});\n",
              "          if (!dataTable) return;\n",
              "\n",
              "          const docLinkHtml = 'Like what you see? Visit the ' +\n",
              "            '<a target=\"_blank\" href=https://colab.research.google.com/notebooks/data_table.ipynb>data table notebook</a>'\n",
              "            + ' to learn more about interactive tables.';\n",
              "          element.innerHTML = '';\n",
              "          dataTable['output_type'] = 'display_data';\n",
              "          await google.colab.output.renderOutput(dataTable, element);\n",
              "          const docLink = document.createElement('div');\n",
              "          docLink.innerHTML = docLinkHtml;\n",
              "          element.appendChild(docLink);\n",
              "        }\n",
              "      </script>\n",
              "    </div>\n",
              "  </div>\n",
              "  "
            ]
          },
          "metadata": {},
          "execution_count": 23
        }
      ]
    },
    {
      "cell_type": "markdown",
      "source": [
        "Data Visualization"
      ],
      "metadata": {
        "id": "1N7GPNtyjdiL"
      }
    },
    {
      "cell_type": "code",
      "source": [
        "sns.pairplot(df , x_vars = ['displacement','horsepower','weight','acceleration','mpg'], y_vars=['mpg']);"
      ],
      "metadata": {
        "id": "ror_9jzRj037",
        "colab": {
          "base_uri": "https://localhost:8080/",
          "height": 253
        },
        "outputId": "caee159b-d9d1-47d5-fb9a-5bf452d35911"
      },
      "execution_count": null,
      "outputs": [
        {
          "output_type": "display_data",
          "data": {
            "text/plain": [
              "<Figure size 1250x250 with 6 Axes>"
            ],
            "image/png": "[encoded data removed]"
          },
          "metadata": {}
        }
      ]
    },
    {
      "cell_type": "code",
      "source": [
        "sns.regplot(x = 'displacement', y ='mpg', data = df);"
      ],
      "metadata": {
        "colab": {
          "base_uri": "https://localhost:8080/",
          "height": 449
        },
        "id": "M-T91a-nUTNt",
        "outputId": "5925de14-2222-419e-ef38-66bbb0c89d55"
      },
      "execution_count": null,
      "outputs": [
        {
          "output_type": "display_data",
          "data": {
            "text/plain": [
              "<Figure size 640x480 with 1 Axes>"
            ],
            "image/png": "[encoded data removed]"
          },
          "metadata": {}
        }
      ]
    },
    {
      "cell_type": "markdown",
      "source": [
        "Data Preprocessing"
      ],
      "metadata": {
        "id": "XKT1e488jfUK"
      }
    },
    {
      "cell_type": "code",
      "source": [
        "df.info()"
      ],
      "metadata": {
        "id": "JLItY-Djj0in",
        "colab": {
          "base_uri": "https://localhost:8080/"
        },
        "outputId": "bd965319-786d-4d4b-8a1f-2aa6831a8cf8"
      },
      "execution_count": null,
      "outputs": [
        {
          "output_type": "stream",
          "name": "stdout",
          "text": [
            "<class 'pandas.core.frame.DataFrame'>\n",
            "RangeIndex: 398 entries, 0 to 397\n",
            "Data columns (total 9 columns):\n",
            " #   Column        Non-Null Count  Dtype  \n",
            "---  ------        --------------  -----  \n",
            " 0   mpg           398 non-null    float64\n",
            " 1   cylinders     398 non-null    int64  \n",
            " 2   displacement  398 non-null    float64\n",
            " 3   horsepower    392 non-null    float64\n",
            " 4   weight        398 non-null    int64  \n",
            " 5   acceleration  398 non-null    float64\n",
            " 6   model_year    398 non-null    int64  \n",
            " 7   origin        398 non-null    object \n",
            " 8   name          398 non-null    object \n",
            "dtypes: float64(4), int64(3), object(2)\n",
            "memory usage: 28.1+ KB\n"
          ]
        }
      ]
    },
    {
      "cell_type": "code",
      "source": [
        "df.corr()"
      ],
      "metadata": {
        "colab": {
          "base_uri": "https://localhost:8080/",
          "height": 323
        },
        "id": "g-d3zIcLTpbY",
        "outputId": "48a4843f-d05b-4901-fe81-2bd1e2b579f0"
      },
      "execution_count": null,
      "outputs": [
        {
          "output_type": "stream",
          "name": "stderr",
          "text": [
            "<ipython-input-24-2f6f6606aa2c>:1: FutureWarning: The default value of numeric_only in DataFrame.corr is deprecated. In a future version, it will default to False. Select only valid columns or specify the value of numeric_only to silence this warning.\n",
            "  df.corr()\n"
          ]
        },
        {
          "output_type": "execute_result",
          "data": {
            "text/plain": [
              "                   mpg  cylinders  displacement  horsepower    weight  \\\n",
              "mpg           1.000000  -0.775396     -0.804203   -0.778427 -0.831741   \n",
              "cylinders    -0.775396   1.000000      0.950721    0.842983  0.896017   \n",
              "displacement -0.804203   0.950721      1.000000    0.897257  0.932824   \n",
              "horsepower   -0.778427   0.842983      0.897257    1.000000  0.864538   \n",
              "weight       -0.831741   0.896017      0.932824    0.864538  1.000000   \n",
              "acceleration  0.420289  -0.505419     -0.543684   -0.689196 -0.417457   \n",
              "model_year    0.579267  -0.348746     -0.370164   -0.416361 -0.306564   \n",
              "\n",
              "              acceleration  model_year  \n",
              "mpg               0.420289    0.579267  \n",
              "cylinders        -0.505419   -0.348746  \n",
              "displacement     -0.543684   -0.370164  \n",
              "horsepower       -0.689196   -0.416361  \n",
              "weight           -0.417457   -0.306564  \n",
              "acceleration      1.000000    0.288137  \n",
              "model_year        0.288137    1.000000  "
            ],
            "text/html": [
              "\n",
              "  <div id=\"df-a1d4e262-828f-4f8f-b823-5ae697e6346b\">\n",
              "    <div class=\"colab-df-container\">\n",
              "      <div>\n",
              "<style scoped>\n",
              "    .dataframe tbody tr th:only-of-type {\n",
              "        vertical-align: middle;\n",
              "    }\n",
              "\n",
              "    .dataframe tbody tr th {\n",
              "        vertical-align: top;\n",
              "    }\n",
              "\n",
              "    .dataframe thead th {\n",
              "        text-align: right;\n",
              "    }\n",
              "</style>\n",
              "<table border=\"1\" class=\"dataframe\">\n",
              "  <thead>\n",
              "    <tr style=\"text-align: right;\">\n",
              "      <th></th>\n",
              "      <th>mpg</th>\n",
              "      <th>cylinders</th>\n",
              "      <th>displacement</th>\n",
              "      <th>horsepower</th>\n",
              "      <th>weight</th>\n",
              "      <th>acceleration</th>\n",
              "      <th>model_year</th>\n",
              "    </tr>\n",
              "  </thead>\n",
              "  <tbody>\n",
              "    <tr>\n",
              "      <th>mpg</th>\n",
              "      <td>1.000000</td>\n",
              "      <td>-0.775396</td>\n",
              "      <td>-0.804203</td>\n",
              "      <td>-0.778427</td>\n",
              "      <td>-0.831741</td>\n",
              "      <td>0.420289</td>\n",
              "      <td>0.579267</td>\n",
              "    </tr>\n",
              "    <tr>\n",
              "      <th>cylinders</th>\n",
              "      <td>-0.775396</td>\n",
              "      <td>1.000000</td>\n",
              "      <td>0.950721</td>\n",
              "      <td>0.842983</td>\n",
              "      <td>0.896017</td>\n",
              "      <td>-0.505419</td>\n",
              "      <td>-0.348746</td>\n",
              "    </tr>\n",
              "    <tr>\n",
              "      <th>displacement</th>\n",
              "      <td>-0.804203</td>\n",
              "      <td>0.950721</td>\n",
              "      <td>1.000000</td>\n",
              "      <td>0.897257</td>\n",
              "      <td>0.932824</td>\n",
              "      <td>-0.543684</td>\n",
              "      <td>-0.370164</td>\n",
              "    </tr>\n",
              "    <tr>\n",
              "      <th>horsepower</th>\n",
              "      <td>-0.778427</td>\n",
              "      <td>0.842983</td>\n",
              "      <td>0.897257</td>\n",
              "      <td>1.000000</td>\n",
              "      <td>0.864538</td>\n",
              "      <td>-0.689196</td>\n",
              "      <td>-0.416361</td>\n",
              "    </tr>\n",
              "    <tr>\n",
              "      <th>weight</th>\n",
              "      <td>-0.831741</td>\n",
              "      <td>0.896017</td>\n",
              "      <td>0.932824</td>\n",
              "      <td>0.864538</td>\n",
              "      <td>1.000000</td>\n",
              "      <td>-0.417457</td>\n",
              "      <td>-0.306564</td>\n",
              "    </tr>\n",
              "    <tr>\n",
              "      <th>acceleration</th>\n",
              "      <td>0.420289</td>\n",
              "      <td>-0.505419</td>\n",
              "      <td>-0.543684</td>\n",
              "      <td>-0.689196</td>\n",
              "      <td>-0.417457</td>\n",
              "      <td>1.000000</td>\n",
              "      <td>0.288137</td>\n",
              "    </tr>\n",
              "    <tr>\n",
              "      <th>model_year</th>\n",
              "      <td>0.579267</td>\n",
              "      <td>-0.348746</td>\n",
              "      <td>-0.370164</td>\n",
              "      <td>-0.416361</td>\n",
              "      <td>-0.306564</td>\n",
              "      <td>0.288137</td>\n",
              "      <td>1.000000</td>\n",
              "    </tr>\n",
              "  </tbody>\n",
              "</table>\n",
              "</div>\n",
              "      <button class=\"colab-df-convert\" onclick=\"convertToInteractive('df-a1d4e262-828f-4f8f-b823-5ae697e6346b')\"\n",
              "              title=\"Convert this dataframe to an interactive table.\"\n",
              "              style=\"display:none;\">\n",
              "        \n",
              "  <svg xmlns=\"http://www.w3.org/2000/svg\" height=\"24px\"viewBox=\"0 0 24 24\"\n",
              "       width=\"24px\">\n",
              "    <path d=\"M0 0h24v24H0V0z\" fill=\"none\"/>\n",
              "    <path d=\"M18.56 5.44l.94 2.06.94-2.06 2.06-.94-2.06-.94-.94-2.06-.94 2.06-2.06.94zm-11 1L8.5 8.5l.94-2.06 2.06-.94-2.06-.94L8.5 2.5l-.94 2.06-2.06.94zm10 10l.94 2.06.94-2.06 2.06-.94-2.06-.94-.94-2.06-.94 2.06-2.06.94z\"/><path d=\"M17.41 7.96l-1.37-1.37c-.4-.4-.92-.59-1.43-.59-.52 0-1.04.2-1.43.59L10.3 9.45l-7.72 7.72c-.78.78-.78 2.05 0 2.83L4 21.41c.39.39.9.59 1.41.59.51 0 1.02-.2 1.41-.59l7.78-7.78 2.81-2.81c.8-.78.8-2.07 0-2.86zM5.41 20L4 18.59l7.72-7.72 1.47 1.35L5.41 20z\"/>\n",
              "  </svg>\n",
              "      </button>\n",
              "      \n",
              "  <style>\n",
              "    .colab-df-container {\n",
              "      display:flex;\n",
              "      flex-wrap:wrap;\n",
              "      gap: 12px;\n",
              "    }\n",
              "\n",
              "    .colab-df-convert {\n",
              "      background-color: #E8F0FE;\n",
              "      border: none;\n",
              "      border-radius: 50%;\n",
              "      cursor: pointer;\n",
              "      display: none;\n",
              "      fill: #1967D2;\n",
              "      height: 32px;\n",
              "      padding: 0 0 0 0;\n",
              "      width: 32px;\n",
              "    }\n",
              "\n",
              "    .colab-df-convert:hover {\n",
              "      background-color: #E2EBFA;\n",
              "      box-shadow: 0px 1px 2px rgba(60, 64, 67, 0.3), 0px 1px 3px 1px rgba(60, 64, 67, 0.15);\n",
              "      fill: #174EA6;\n",
              "    }\n",
              "\n",
              "    [theme=dark] .colab-df-convert {\n",
              "      background-color: #3B4455;\n",
              "      fill: #D2E3FC;\n",
              "    }\n",
              "\n",
              "    [theme=dark] .colab-df-convert:hover {\n",
              "      background-color: #434B5C;\n",
              "      box-shadow: 0px 1px 3px 1px rgba(0, 0, 0, 0.15);\n",
              "      filter: drop-shadow(0px 1px 2px rgba(0, 0, 0, 0.3));\n",
              "      fill: #FFFFFF;\n",
              "    }\n",
              "  </style>\n",
              "\n",
              "      <script>\n",
              "        const buttonEl =\n",
              "          document.querySelector('#df-a1d4e262-828f-4f8f-b823-5ae697e6346b button.colab-df-convert');\n",
              "        buttonEl.style.display =\n",
              "          google.colab.kernel.accessAllowed ? 'block' : 'none';\n",
              "\n",
              "        async function convertToInteractive(key) {\n",
              "          const element = document.querySelector('#df-a1d4e262-828f-4f8f-b823-5ae697e6346b');\n",
              "          const dataTable =\n",
              "            await google.colab.kernel.invokeFunction('convertToInteractive',\n",
              "                                                     [key], {});\n",
              "          if (!dataTable) return;\n",
              "\n",
              "          const docLinkHtml = 'Like what you see? Visit the ' +\n",
              "            '<a target=\"_blank\" href=https://colab.research.google.com/notebooks/data_table.ipynb>data table notebook</a>'\n",
              "            + ' to learn more about interactive tables.';\n",
              "          element.innerHTML = '';\n",
              "          dataTable['output_type'] = 'display_data';\n",
              "          await google.colab.output.renderOutput(dataTable, element);\n",
              "          const docLink = document.createElement('div');\n",
              "          docLink.innerHTML = docLinkHtml;\n",
              "          element.appendChild(docLink);\n",
              "        }\n",
              "      </script>\n",
              "    </div>\n",
              "  </div>\n",
              "  "
            ]
          },
          "metadata": {},
          "execution_count": 24
        }
      ]
    },
    {
      "cell_type": "markdown",
      "source": [
        "Define Target Variable (y) and Feature Variables (X)"
      ],
      "metadata": {
        "id": "XNSiy61PjhK8"
      }
    },
    {
      "cell_type": "code",
      "source": [
        "df.columns"
      ],
      "metadata": {
        "id": "XMg-5o1gjwKT",
        "colab": {
          "base_uri": "https://localhost:8080/"
        },
        "outputId": "fee98a73-1052-49b2-9068-9b620fd01803"
      },
      "execution_count": null,
      "outputs": [
        {
          "output_type": "execute_result",
          "data": {
            "text/plain": [
              "Index(['mpg', 'cylinders', 'displacement', 'horsepower', 'weight',\n",
              "       'acceleration', 'model_year', 'origin', 'name'],\n",
              "      dtype='object')"
            ]
          },
          "metadata": {},
          "execution_count": 25
        }
      ]
    },
    {
      "cell_type": "code",
      "source": [
        "y = df['mpg']\n",
        "print(y)"
      ],
      "metadata": {
        "colab": {
          "base_uri": "https://localhost:8080/"
        },
        "id": "wBFO7Xw5feTS",
        "outputId": "6bbbf9cf-0f80-497b-d81a-66fc695e62c0"
      },
      "execution_count": null,
      "outputs": [
        {
          "output_type": "stream",
          "name": "stdout",
          "text": [
            "0      18.0\n",
            "1      15.0\n",
            "2      18.0\n",
            "3      16.0\n",
            "4      17.0\n",
            "       ... \n",
            "393    27.0\n",
            "394    44.0\n",
            "395    32.0\n",
            "396    28.0\n",
            "397    31.0\n",
            "Name: mpg, Length: 398, dtype: float64\n"
          ]
        }
      ]
    },
    {
      "cell_type": "code",
      "source": [
        "y.shape"
      ],
      "metadata": {
        "colab": {
          "base_uri": "https://localhost:8080/"
        },
        "id": "giDep0NyflMb",
        "outputId": "71db8b42-8494-46de-e2c0-44c5bfc6ae70"
      },
      "execution_count": null,
      "outputs": [
        {
          "output_type": "execute_result",
          "data": {
            "text/plain": [
              "(398,)"
            ]
          },
          "metadata": {},
          "execution_count": 28
        }
      ]
    },
    {
      "cell_type": "code",
      "source": [
        "x=df[['displacement','horsepower','weight','acceleration']]\n",
        "print(x)"
      ],
      "metadata": {
        "colab": {
          "base_uri": "https://localhost:8080/"
        },
        "id": "C__m6FUofrbk",
        "outputId": "871b2a77-4b1b-487e-c55a-72f4b9a18b49"
      },
      "execution_count": null,
      "outputs": [
        {
          "output_type": "stream",
          "name": "stdout",
          "text": [
            "     displacement  horsepower  weight  acceleration\n",
            "0           307.0       130.0    3504          12.0\n",
            "1           350.0       165.0    3693          11.5\n",
            "2           318.0       150.0    3436          11.0\n",
            "3           304.0       150.0    3433          12.0\n",
            "4           302.0       140.0    3449          10.5\n",
            "..            ...         ...     ...           ...\n",
            "393         140.0        86.0    2790          15.6\n",
            "394          97.0        52.0    2130          24.6\n",
            "395         135.0        84.0    2295          11.6\n",
            "396         120.0        79.0    2625          18.6\n",
            "397         119.0        82.0    2720          19.4\n",
            "\n",
            "[398 rows x 4 columns]\n"
          ]
        }
      ]
    },
    {
      "cell_type": "code",
      "source": [
        "x.shape"
      ],
      "metadata": {
        "colab": {
          "base_uri": "https://localhost:8080/"
        },
        "id": "LpwJgp20f5QE",
        "outputId": "75cd47f3-06c9-4e82-e14b-8f026829e469"
      },
      "execution_count": null,
      "outputs": [
        {
          "output_type": "execute_result",
          "data": {
            "text/plain": [
              "(398, 4)"
            ]
          },
          "metadata": {},
          "execution_count": 30
        }
      ]
    },
    {
      "cell_type": "markdown",
      "source": [
        "Train Test Split"
      ],
      "metadata": {
        "id": "RiXXQLfqjjuT"
      }
    },
    {
      "cell_type": "code",
      "source": [
        "from sklearn.model_selection import train_test_split\n",
        "features = ['displacement']\n",
        "target = ['weight']\n",
        "X_train, X_test, y_train, y_test = train_test_split(df[features], df[target], test_size=0.25, random_state=42)\n",
        "X_train.shape,X_test.shape,y_train.shape,y_test.shape"
      ],
      "metadata": {
        "colab": {
          "base_uri": "https://localhost:8080/"
        },
        "id": "nFfu5jiPI0HB",
        "outputId": "9825dfa8-54e7-46e9-f2cf-cba183d58893"
      },
      "execution_count": null,
      "outputs": [
        {
          "output_type": "execute_result",
          "data": {
            "text/plain": [
              "((298, 1), (100, 1), (298, 1), (100, 1))"
            ]
          },
          "metadata": {},
          "execution_count": 16
        }
      ]
    },
    {
      "cell_type": "markdown",
      "source": [
        "Modeling"
      ],
      "metadata": {
        "id": "kD4zMIhajmH6"
      }
    },
    {
      "cell_type": "code",
      "source": [
        "from sklearn.linear_model import LinearRegression\n",
        "model = LinearRegression()\n",
        "model.fit(X_train, y_train)"
      ],
      "metadata": {
        "colab": {
          "base_uri": "https://localhost:8080/",
          "height": 74
        },
        "id": "yInC4detKY49",
        "outputId": "9cb405ae-56e3-4571-a50f-f968e98d6ff1"
      },
      "execution_count": null,
      "outputs": [
        {
          "output_type": "execute_result",
          "data": {
            "text/plain": [
              "LinearRegression()"
            ],
            "text/html": [
              "<style>#sk-container-id-1 {color: black;background-color: white;}#sk-container-id-1 pre{padding: 0;}#sk-container-id-1 div.sk-toggleable {background-color: white;}#sk-container-id-1 label.sk-toggleable__label {cursor: pointer;display: block;width: 100%;margin-bottom: 0;padding: 0.3em;box-sizing: border-box;text-align: center;}#sk-container-id-1 label.sk-toggleable__label-arrow:before {content: \"▸\";float: left;margin-right: 0.25em;color: #696969;}#sk-container-id-1 label.sk-toggleable__label-arrow:hover:before {color: black;}#sk-container-id-1 div.sk-estimator:hover label.sk-toggleable__label-arrow:before {color: black;}#sk-container-id-1 div.sk-toggleable__content {max-height: 0;max-width: 0;overflow: hidden;text-align: left;background-color: #f0f8ff;}#sk-container-id-1 div.sk-toggleable__content pre {margin: 0.2em;color: black;border-radius: 0.25em;background-color: #f0f8ff;}#sk-container-id-1 input.sk-toggleable__control:checked~div.sk-toggleable__content {max-height: 200px;max-width: 100%;overflow: auto;}#sk-container-id-1 input.sk-toggleable__control:checked~label.sk-toggleable__label-arrow:before {content: \"▾\";}#sk-container-id-1 div.sk-estimator input.sk-toggleable__control:checked~label.sk-toggleable__label {background-color: #d4ebff;}#sk-container-id-1 div.sk-label input.sk-toggleable__control:checked~label.sk-toggleable__label {background-color: #d4ebff;}#sk-container-id-1 input.sk-hidden--visually {border: 0;clip: rect(1px 1px 1px 1px);clip: rect(1px, 1px, 1px, 1px);height: 1px;margin: -1px;overflow: hidden;padding: 0;position: absolute;width: 1px;}#sk-container-id-1 div.sk-estimator {font-family: monospace;background-color: #f0f8ff;border: 1px dotted black;border-radius: 0.25em;box-sizing: border-box;margin-bottom: 0.5em;}#sk-container-id-1 div.sk-estimator:hover {background-color: #d4ebff;}#sk-container-id-1 div.sk-parallel-item::after {content: \"\";width: 100%;border-bottom: 1px solid gray;flex-grow: 1;}#sk-container-id-1 div.sk-label:hover label.sk-toggleable__label {background-color: #d4ebff;}#sk-container-id-1 div.sk-serial::before {content: \"\";position: absolute;border-left: 1px solid gray;box-sizing: border-box;top: 0;bottom: 0;left: 50%;z-index: 0;}#sk-container-id-1 div.sk-serial {display: flex;flex-direction: column;align-items: center;background-color: white;padding-right: 0.2em;padding-left: 0.2em;position: relative;}#sk-container-id-1 div.sk-item {position: relative;z-index: 1;}#sk-container-id-1 div.sk-parallel {display: flex;align-items: stretch;justify-content: center;background-color: white;position: relative;}#sk-container-id-1 div.sk-item::before, #sk-container-id-1 div.sk-parallel-item::before {content: \"\";position: absolute;border-left: 1px solid gray;box-sizing: border-box;top: 0;bottom: 0;left: 50%;z-index: -1;}#sk-container-id-1 div.sk-parallel-item {display: flex;flex-direction: column;z-index: 1;position: relative;background-color: white;}#sk-container-id-1 div.sk-parallel-item:first-child::after {align-self: flex-end;width: 50%;}#sk-container-id-1 div.sk-parallel-item:last-child::after {align-self: flex-start;width: 50%;}#sk-container-id-1 div.sk-parallel-item:only-child::after {width: 0;}#sk-container-id-1 div.sk-dashed-wrapped {border: 1px dashed gray;margin: 0 0.4em 0.5em 0.4em;box-sizing: border-box;padding-bottom: 0.4em;background-color: white;}#sk-container-id-1 div.sk-label label {font-family: monospace;font-weight: bold;display: inline-block;line-height: 1.2em;}#sk-container-id-1 div.sk-label-container {text-align: center;}#sk-container-id-1 div.sk-container {/* jupyter's `normalize.less` sets `[hidden] { display: none; }` but bootstrap.min.css set `[hidden] { display: none !important; }` so we also need the `!important` here to be able to override the default hidden behavior on the sphinx rendered scikit-learn.org. See: https://github.com/scikit-learn/scikit-learn/issues/21755 */display: inline-block !important;position: relative;}#sk-container-id-1 div.sk-text-repr-fallback {display: none;}</style><div id=\"sk-container-id-1\" class=\"sk-top-container\"><div class=\"sk-text-repr-fallback\"><pre>LinearRegression()</pre><b>In a Jupyter environment, please rerun this cell to show the HTML representation or trust the notebook. <br />On GitHub, the HTML representation is unable to render, please try loading this page with nbviewer.org.</b></div><div class=\"sk-container\" hidden><div class=\"sk-item\"><div class=\"sk-estimator sk-toggleable\"><input class=\"sk-toggleable__control sk-hidden--visually\" id=\"sk-estimator-id-1\" type=\"checkbox\" checked><label for=\"sk-estimator-id-1\" class=\"sk-toggleable__label sk-toggleable__label-arrow\">LinearRegression</label><div class=\"sk-toggleable__content\"><pre>LinearRegression()</pre></div></div></div></div></div>"
            ]
          },
          "metadata": {},
          "execution_count": 24
        }
      ]
    },
    {
      "cell_type": "code",
      "source": [
        "model.intercept_"
      ],
      "metadata": {
        "colab": {
          "base_uri": "https://localhost:8080/"
        },
        "id": "jpC48qerME5u",
        "outputId": "3b7fd973-2ca3-4b0c-fea5-81c5e0878424"
      },
      "execution_count": null,
      "outputs": [
        {
          "output_type": "execute_result",
          "data": {
            "text/plain": [
              "array([1515.41110228])"
            ]
          },
          "metadata": {},
          "execution_count": 25
        }
      ]
    },
    {
      "cell_type": "code",
      "source": [
        "model.coef_"
      ],
      "metadata": {
        "colab": {
          "base_uri": "https://localhost:8080/"
        },
        "id": "B-LS_8kxL_Y4",
        "outputId": "cb48cdc1-23bc-4e28-cbac-e92bcb95242a"
      },
      "execution_count": null,
      "outputs": [
        {
          "output_type": "execute_result",
          "data": {
            "text/plain": [
              "array([[7.58902343]])"
            ]
          },
          "metadata": {},
          "execution_count": 22
        }
      ]
    },
    {
      "cell_type": "markdown",
      "source": [
        "Model Evaluation"
      ],
      "metadata": {
        "id": "6SsDpw3AjoPF"
      }
    },
    {
      "cell_type": "code",
      "source": [
        "from sklearn.preprocessing import StandardScaler\n",
        "scaler = StandardScaler()\n",
        "X_train_scaled = scaler.fit_transform(X_train)\n",
        "print(X_train_scaled)"
      ],
      "metadata": {
        "colab": {
          "base_uri": "https://localhost:8080/"
        },
        "id": "XCt0u5pdNEaD",
        "outputId": "e8101e96-3035-4d8c-8745-ce3fdf182ba1"
      },
      "execution_count": null,
      "outputs": [
        {
          "output_type": "stream",
          "name": "stdout",
          "text": [
            "[[-0.93324137]\n",
            " [-0.83481596]\n",
            " [ 0.06085531]\n",
            " [ 1.09432216]\n",
            " [ 0.56282492]\n",
            " [ 2.4329078 ]\n",
            " [-0.94308392]\n",
            " [ 1.54707907]\n",
            " [-0.86434358]\n",
            " [-1.06119441]\n",
            " [-1.19898999]\n",
            " [-0.8446585 ]\n",
            " [ 0.73014813]\n",
            " [-1.00213916]\n",
            " [-0.70686292]\n",
            " [-0.51985463]\n",
            " [-0.95292646]\n",
            " [ 0.31676139]\n",
            " [-1.00213916]\n",
            " [-0.29347618]\n",
            " [ 1.54707907]\n",
            " [-0.51985463]\n",
            " [ 0.07069785]\n",
            " [ 0.07069785]\n",
            " [ 0.06085531]\n",
            " [-0.24426347]\n",
            " [-1.00213916]\n",
            " [-0.41158668]\n",
            " [-0.93324137]\n",
            " [-0.71670546]\n",
            " [-1.02182425]\n",
            " [-1.0808795 ]\n",
            " [-1.06119441]\n",
            " [ 0.38565918]\n",
            " [-0.77576071]\n",
            " [ 0.56282492]\n",
            " [ 0.64156526]\n",
            " [-1.10056458]\n",
            " [-0.93324137]\n",
            " [-0.8446585 ]\n",
            " [ 0.56282492]\n",
            " [ 1.07463708]\n",
            " [ 1.55692161]\n",
            " [ 0.56282492]\n",
            " [ 0.38565918]\n",
            " [-1.06119441]\n",
            " [-0.94308392]\n",
            " [-1.20883253]\n",
            " [-0.69702038]\n",
            " [-0.726548  ]\n",
            " [ 2.57070338]\n",
            " [ 1.55692161]\n",
            " [-0.60843751]\n",
            " [-0.83481596]\n",
            " [ 1.87188294]\n",
            " [-0.94308392]\n",
            " [ 2.03920614]\n",
            " [-0.94308392]\n",
            " [ 0.31676139]\n",
            " [-0.94308392]\n",
            " [-0.51001209]\n",
            " [-0.24426347]\n",
            " [-0.94308392]\n",
            " [ 0.68093542]\n",
            " [ 1.23211774]\n",
            " [ 1.23211774]\n",
            " [ 0.31676139]\n",
            " [-1.01198171]\n",
            " [ 0.38565918]\n",
            " [ 1.55692161]\n",
            " [ 1.54707907]\n",
            " [-0.36237397]\n",
            " [ 1.64550448]\n",
            " [-0.94308392]\n",
            " [-0.86434358]\n",
            " [ 0.31676139]\n",
            " [ 0.56282492]\n",
            " [ 1.54707907]\n",
            " [-0.70686292]\n",
            " [ 0.38565918]\n",
            " [-1.14977729]\n",
            " [-0.70686292]\n",
            " [ 2.32463984]\n",
            " [ 1.23211774]\n",
            " [-0.726548  ]\n",
            " [-1.02182425]\n",
            " [ 0.31676139]\n",
            " [ 0.07069785]\n",
            " [ 0.05101277]\n",
            " [-1.01198171]\n",
            " [-0.94308392]\n",
            " [ 1.09432216]\n",
            " [-0.69702038]\n",
            " [-0.94308392]\n",
            " [-0.51985463]\n",
            " [ 1.23211774]\n",
            " [ 0.37581664]\n",
            " [-0.86434358]\n",
            " [-0.75607563]\n",
            " [-0.70686292]\n",
            " [-0.51985463]\n",
            " [-0.71670546]\n",
            " [ 0.07069785]\n",
            " [-1.12024966]\n",
            " [ 1.54707907]\n",
            " [ 1.44865365]\n",
            " [-1.01198171]\n",
            " [-0.93324137]\n",
            " [-1.06119441]\n",
            " [-0.69702038]\n",
            " [-0.70686292]\n",
            " [-0.726548  ]\n",
            " [-0.24426347]\n",
            " [-1.22851762]\n",
            " [ 0.31676139]\n",
            " [-0.41158668]\n",
            " [-0.83481596]\n",
            " [ 1.07463708]\n",
            " [-0.47064193]\n",
            " [ 0.37581664]\n",
            " [-1.00213916]\n",
            " [ 1.07463708]\n",
            " [ 0.56282492]\n",
            " [ 0.31676139]\n",
            " [-1.01198171]\n",
            " [-0.48048447]\n",
            " [ 1.23211774]\n",
            " [-1.06119441]\n",
            " [ 1.54707907]\n",
            " [ 1.55692161]\n",
            " [-0.79544579]\n",
            " [ 1.12384979]\n",
            " [-0.70686292]\n",
            " [-0.41158668]\n",
            " [ 1.07463708]\n",
            " [-0.94308392]\n",
            " [-0.93324137]\n",
            " [-0.51985463]\n",
            " [-0.56906734]\n",
            " [ 0.38565918]\n",
            " [ 1.07463708]\n",
            " [-0.83481596]\n",
            " [-0.94308392]\n",
            " [-0.93324137]\n",
            " [-1.00213916]\n",
            " [ 0.38565918]\n",
            " [-1.06119441]\n",
            " [-0.51985463]\n",
            " [ 0.56282492]\n",
            " [-1.01198171]\n",
            " [-0.51985463]\n",
            " [ 1.54707907]\n",
            " [ 2.03920614]\n",
            " [ 0.07069785]\n",
            " [ 1.55692161]\n",
            " [-0.726548  ]\n",
            " [ 1.54707907]\n",
            " [-0.70686292]\n",
            " [-0.90371375]\n",
            " [ 1.55692161]\n",
            " [ 2.03920614]\n",
            " [ 0.56282492]\n",
            " [ 1.09432216]\n",
            " [-0.51985463]\n",
            " [-1.12024966]\n",
            " [-0.94308392]\n",
            " [-0.36237397]\n",
            " [ 1.1041647 ]\n",
            " [ 2.58054592]\n",
            " [-1.12024966]\n",
            " [-0.94308392]\n",
            " [-0.09662535]\n",
            " [-1.01198171]\n",
            " [-0.71670546]\n",
            " [ 1.23211774]\n",
            " [-1.02182425]\n",
            " [-0.51985463]\n",
            " [ 0.07069785]\n",
            " [ 0.68093542]\n",
            " [ 1.07463708]\n",
            " [ 0.31676139]\n",
            " [-0.83481596]\n",
            " [ 0.56282492]\n",
            " [ 0.37581664]\n",
            " [-0.36237397]\n",
            " [ 1.54707907]\n",
            " [-0.57890988]\n",
            " [ 0.56282492]\n",
            " [ 1.23211774]\n",
            " [-0.69702038]\n",
            " [ 0.56282492]\n",
            " [-0.93324137]\n",
            " [-0.57890988]\n",
            " [ 0.56282492]\n",
            " [-0.91355629]\n",
            " [ 1.23211774]\n",
            " [-0.93324137]\n",
            " [ 1.54707907]\n",
            " [ 0.31676139]\n",
            " [ 1.23211774]\n",
            " [ 0.64156526]\n",
            " [-0.56906734]\n",
            " [ 1.23211774]\n",
            " [ 1.54707907]\n",
            " [ 0.31676139]\n",
            " [ 0.56282492]\n",
            " [ 2.58054592]\n",
            " [ 1.23211774]\n",
            " [ 0.66125034]\n",
            " [-0.78560325]\n",
            " [ 2.03920614]\n",
            " [ 1.55692161]\n",
            " [ 1.54707907]\n",
            " [-1.05135187]\n",
            " [-0.93324137]\n",
            " [-0.93324137]\n",
            " [-0.79544579]\n",
            " [-0.51985463]\n",
            " [-0.61828005]\n",
            " [ 1.54707907]\n",
            " [-0.93324137]\n",
            " [-0.46079939]\n",
            " [ 1.07463708]\n",
            " [-0.36237397]\n",
            " [ 0.37581664]\n",
            " [-1.06119441]\n",
            " [-0.86434358]\n",
            " [ 0.56282492]\n",
            " [ 0.56282492]\n",
            " [ 2.03920614]\n",
            " [-0.80528834]\n",
            " [ 1.55692161]\n",
            " [-0.93324137]\n",
            " [ 0.07069785]\n",
            " [ 1.64550448]\n",
            " [-1.19898999]\n",
            " [ 1.54707907]\n",
            " [-0.69702038]\n",
            " [-0.69702038]\n",
            " [-0.94308392]\n",
            " [ 0.31676139]\n",
            " [ 0.37581664]\n",
            " [ 2.03920614]\n",
            " [-0.41158668]\n",
            " [-1.03166679]\n",
            " [ 1.07463708]\n",
            " [-0.46079939]\n",
            " [ 2.58054592]\n",
            " [-0.41158668]\n",
            " [ 1.07463708]\n",
            " [-0.726548  ]\n",
            " [ 1.07463708]\n",
            " [-0.46079939]\n",
            " [-0.56906734]\n",
            " [ 0.64156526]\n",
            " [-0.19505077]\n",
            " [-0.8446585 ]\n",
            " [-0.71670546]\n",
            " [-1.11040712]\n",
            " [-1.18914745]\n",
            " [-0.75607563]\n",
            " [-0.21473585]\n",
            " [ 1.09432216]\n",
            " [-0.56906734]\n",
            " [ 1.1041647 ]\n",
            " [ 0.38565918]\n",
            " [-0.93816265]\n",
            " [ 0.56282492]\n",
            " [-1.05135187]\n",
            " [-0.94308392]\n",
            " [ 0.37581664]\n",
            " [-0.8446585 ]\n",
            " [-0.41158668]\n",
            " [ 0.37581664]\n",
            " [-0.70686292]\n",
            " [ 0.31676139]\n",
            " [-1.02182425]\n",
            " [-1.12024966]\n",
            " [ 0.38565918]\n",
            " [-0.41158668]\n",
            " [-0.71670546]\n",
            " [-0.69702038]\n",
            " [-1.12024966]\n",
            " [-0.51001209]\n",
            " [ 0.38565918]\n",
            " [-0.41158668]\n",
            " [ 1.54707907]\n",
            " [-1.06119441]\n",
            " [ 1.07463708]\n",
            " [ 1.23211774]\n",
            " [-0.726548  ]\n",
            " [-0.81513088]\n",
            " [ 1.23211774]\n",
            " [-1.20883253]\n",
            " [ 1.54707907]\n",
            " [-0.57890988]\n",
            " [-1.02182425]\n",
            " [-0.94308392]]\n"
          ]
        }
      ]
    },
    {
      "cell_type": "markdown",
      "source": [
        "Prediction"
      ],
      "metadata": {
        "id": "-Ez92qxRjp9B"
      }
    },
    {
      "cell_type": "code",
      "source": [
        "y_pred = model.predict(X_test)\n",
        "print(y_pred)"
      ],
      "metadata": {
        "id": "J0wvJ5y7juun",
        "colab": {
          "base_uri": "https://localhost:8080/"
        },
        "outputId": "f26609c8-beee-47c5-8374-825ace008db5"
      },
      "execution_count": null,
      "outputs": [
        {
          "output_type": "stream",
          "name": "stdout",
          "text": [
            "[[2206.01223401]\n",
            " [2426.09391335]\n",
            " [3276.06453701]\n",
            " [3928.7205516 ]\n",
            " [3928.7205516 ]\n",
            " [2251.54637456]\n",
            " [2577.87438186]\n",
            " [4854.58140952]\n",
            " [3488.55719292]\n",
            " [3033.21578739]\n",
            " [4475.13023824]\n",
            " [2206.01223401]\n",
            " [2206.01223401]\n",
            " [3822.47422365]\n",
            " [2577.87438186]\n",
            " [4422.00707426]\n",
            " [2365.38172594]\n",
            " [2752.42192065]\n",
            " [4551.0204725 ]\n",
            " [2206.01223401]\n",
            " [2433.68293677]\n",
            " [3018.03774054]\n",
            " [3276.06453701]\n",
            " [2259.13539799]\n",
            " [3845.24129392]\n",
            " [2251.54637456]\n",
            " [2259.13539799]\n",
            " [2661.35363954]\n",
            " [3473.37914607]\n",
            " [4551.0204725 ]\n",
            " [2577.87438186]\n",
            " [2312.25856197]\n",
            " [4171.56930122]\n",
            " [2372.97074937]\n",
            " [2168.06711688]\n",
            " [4551.0204725 ]\n",
            " [2691.70973324]\n",
            " [3830.06324707]\n",
            " [3928.7205516 ]\n",
            " [2259.13539799]\n",
            " [2828.3121549 ]\n",
            " [2251.54637456]\n",
            " [2433.68293677]\n",
            " [4247.45953548]\n",
            " [2426.09391335]\n",
            " [2426.09391335]\n",
            " [2395.73781965]\n",
            " [2433.68293677]\n",
            " [2304.66953854]\n",
            " [2198.42321058]\n",
            " [2577.87438186]\n",
            " [2168.06711688]\n",
            " [2327.43660882]\n",
            " [4551.0204725 ]\n",
            " [2828.3121549 ]\n",
            " [4551.0204725 ]\n",
            " [4247.45953548]\n",
            " [2532.34024131]\n",
            " [2577.87438186]\n",
            " [3222.94137303]\n",
            " [4171.56930122]\n",
            " [2206.01223401]\n",
            " [2577.87438186]\n",
            " [2426.09391335]\n",
            " [3018.03774054]\n",
            " [2372.97074937]\n",
            " [2661.35363954]\n",
            " [2259.13539799]\n",
            " [2259.13539799]\n",
            " [3845.24129392]\n",
            " [2312.25856197]\n",
            " [3822.47422365]\n",
            " [4771.10215184]\n",
            " [3473.37914607]\n",
            " [2889.02434231]\n",
            " [3488.55719292]\n",
            " [3412.66695867]\n",
            " [2365.38172594]\n",
            " [2198.42321058]\n",
            " [3830.06324707]\n",
            " [3822.47422365]\n",
            " [2251.54637456]\n",
            " [2206.01223401]\n",
            " [2206.01223401]\n",
            " [2388.14879622]\n",
            " [4551.0204725 ]\n",
            " [2107.35492948]\n",
            " [2259.13539799]\n",
            " [2251.54637456]\n",
            " [4771.10215184]\n",
            " [4551.0204725 ]\n",
            " [2046.64274207]\n",
            " [2395.73781965]\n",
            " [2114.9439529 ]\n",
            " [2699.29875667]\n",
            " [2312.25856197]\n",
            " [2539.92926473]\n",
            " [3268.47551358]\n",
            " [2699.29875667]\n",
            " [3928.7205516 ]]\n"
          ]
        }
      ]
    },
    {
      "cell_type": "markdown",
      "source": [],
      "metadata": {
        "id": "3O4LbpfaSzCd"
      }
    },
    {
      "cell_type": "markdown",
      "source": [
        "Explanation"
      ],
      "metadata": {
        "id": "mV-PaOIHjrvQ"
      }
    },
    {
      "cell_type": "markdown",
      "source": [
        "Import the necessary library. Then import the dataset. Describe the data using the necessary function. \n",
        "\n",
        "Data visualization is the representation of data through use of common graphics, such as charts, plots, infographics, and even animations. \n",
        "\n",
        "Data preparation is the process of preparing raw data so that it is suitable for further processing and analysis. \n",
        "\n",
        "The train-test split procedure is used to estimate the performance of machine learning algorithms when they are used to make predictions on data not used to train the model.\n",
        "\n",
        "Data modeling is the process of creating a visual representation of either a whole information system or parts of it to communicate connections between data points and structures.\n",
        "\n",
        "The data evaluation process determines whether data is usable for calculating risk estimates."
      ],
      "metadata": {
        "id": "14bA7AaWNPmN"
      }
    }
  ]
}